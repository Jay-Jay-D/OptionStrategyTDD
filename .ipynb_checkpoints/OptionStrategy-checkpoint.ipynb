{
 "cells": [
  {
   "cell_type": "code",
   "execution_count": 1,
   "metadata": {
    "collapsed": true
   },
   "outputs": [],
   "source": [
    "from OptionStrategy import *\n",
    "\n",
    "# Show the plots in the notebook.\n",
    "%matplotlib inline\n",
    "# Set the plots size.\n",
    "import matplotlib.pylab as pylab\n",
    "pylab.rcParams['figure.figsize'] = 12, 8\n",
    "import matplotlib.pyplot as plt"
   ]
  },
  {
   "cell_type": "markdown",
   "metadata": {},
   "source": [
    "Read the contracts.json file "
   ]
  },
  {
   "cell_type": "code",
   "execution_count": 2,
   "metadata": {
    "collapsed": false
   },
   "outputs": [
    {
     "data": {
      "text/html": [
       "<div>\n",
       "<table border=\"1\" class=\"dataframe\">\n",
       "  <thead>\n",
       "    <tr style=\"text-align: right;\">\n",
       "      <th></th>\n",
       "      <th>Currency</th>\n",
       "      <th>Exchange</th>\n",
       "      <th>Expiry</th>\n",
       "      <th>IncludeExpired</th>\n",
       "      <th>LocalSymbol</th>\n",
       "      <th>Multiplier</th>\n",
       "      <th>Right</th>\n",
       "      <th>SecType</th>\n",
       "      <th>Strike</th>\n",
       "      <th>Symbol</th>\n",
       "      <th>TradingClass</th>\n",
       "    </tr>\n",
       "    <tr>\n",
       "      <th>ConId</th>\n",
       "      <th></th>\n",
       "      <th></th>\n",
       "      <th></th>\n",
       "      <th></th>\n",
       "      <th></th>\n",
       "      <th></th>\n",
       "      <th></th>\n",
       "      <th></th>\n",
       "      <th></th>\n",
       "      <th></th>\n",
       "      <th></th>\n",
       "    </tr>\n",
       "  </thead>\n",
       "  <tbody>\n",
       "    <tr>\n",
       "      <th>187532577</th>\n",
       "      <td>USD</td>\n",
       "      <td>GLOBEX</td>\n",
       "      <td>20160617</td>\n",
       "      <td>False</td>\n",
       "      <td>ESM6</td>\n",
       "      <td>50</td>\n",
       "      <td>None</td>\n",
       "      <td>FUT</td>\n",
       "      <td>0</td>\n",
       "      <td>ES</td>\n",
       "      <td>ES</td>\n",
       "    </tr>\n",
       "    <tr>\n",
       "      <th>198003214</th>\n",
       "      <td>USD</td>\n",
       "      <td>GLOBEX</td>\n",
       "      <td>20160617</td>\n",
       "      <td>False</td>\n",
       "      <td>ESM6 C2000</td>\n",
       "      <td>50</td>\n",
       "      <td>C</td>\n",
       "      <td>FOP</td>\n",
       "      <td>2000</td>\n",
       "      <td>ES</td>\n",
       "      <td>ES</td>\n",
       "    </tr>\n",
       "    <tr>\n",
       "      <th>198003221</th>\n",
       "      <td>USD</td>\n",
       "      <td>GLOBEX</td>\n",
       "      <td>20160617</td>\n",
       "      <td>False</td>\n",
       "      <td>ESM6 C2020</td>\n",
       "      <td>50</td>\n",
       "      <td>C</td>\n",
       "      <td>FOP</td>\n",
       "      <td>2020</td>\n",
       "      <td>ES</td>\n",
       "      <td>ES</td>\n",
       "    </tr>\n",
       "    <tr>\n",
       "      <th>198003231</th>\n",
       "      <td>USD</td>\n",
       "      <td>GLOBEX</td>\n",
       "      <td>20160617</td>\n",
       "      <td>False</td>\n",
       "      <td>ESM6 C2030</td>\n",
       "      <td>50</td>\n",
       "      <td>C</td>\n",
       "      <td>FOP</td>\n",
       "      <td>2030</td>\n",
       "      <td>ES</td>\n",
       "      <td>ES</td>\n",
       "    </tr>\n",
       "    <tr>\n",
       "      <th>215521172</th>\n",
       "      <td>USD</td>\n",
       "      <td>GLOBEX</td>\n",
       "      <td>20160617</td>\n",
       "      <td>False</td>\n",
       "      <td>ESM6 C2035</td>\n",
       "      <td>50</td>\n",
       "      <td>C</td>\n",
       "      <td>FOP</td>\n",
       "      <td>2035</td>\n",
       "      <td>ES</td>\n",
       "      <td>ES</td>\n",
       "    </tr>\n",
       "    <tr>\n",
       "      <th>198003238</th>\n",
       "      <td>USD</td>\n",
       "      <td>GLOBEX</td>\n",
       "      <td>20160617</td>\n",
       "      <td>False</td>\n",
       "      <td>ESM6 C2050</td>\n",
       "      <td>50</td>\n",
       "      <td>C</td>\n",
       "      <td>FOP</td>\n",
       "      <td>2050</td>\n",
       "      <td>ES</td>\n",
       "      <td>ES</td>\n",
       "    </tr>\n",
       "    <tr>\n",
       "      <th>215521192</th>\n",
       "      <td>USD</td>\n",
       "      <td>GLOBEX</td>\n",
       "      <td>20160617</td>\n",
       "      <td>False</td>\n",
       "      <td>ESM6 C2055</td>\n",
       "      <td>50</td>\n",
       "      <td>C</td>\n",
       "      <td>FOP</td>\n",
       "      <td>2055</td>\n",
       "      <td>ES</td>\n",
       "      <td>ES</td>\n",
       "    </tr>\n",
       "    <tr>\n",
       "      <th>198003244</th>\n",
       "      <td>USD</td>\n",
       "      <td>GLOBEX</td>\n",
       "      <td>20160617</td>\n",
       "      <td>False</td>\n",
       "      <td>ESM6 C2070</td>\n",
       "      <td>50</td>\n",
       "      <td>C</td>\n",
       "      <td>FOP</td>\n",
       "      <td>2070</td>\n",
       "      <td>ES</td>\n",
       "      <td>ES</td>\n",
       "    </tr>\n",
       "    <tr>\n",
       "      <th>198003256</th>\n",
       "      <td>USD</td>\n",
       "      <td>GLOBEX</td>\n",
       "      <td>20160617</td>\n",
       "      <td>False</td>\n",
       "      <td>ESM6 C2090</td>\n",
       "      <td>50</td>\n",
       "      <td>C</td>\n",
       "      <td>FOP</td>\n",
       "      <td>2090</td>\n",
       "      <td>ES</td>\n",
       "      <td>ES</td>\n",
       "    </tr>\n",
       "    <tr>\n",
       "      <th>198003942</th>\n",
       "      <td>USD</td>\n",
       "      <td>GLOBEX</td>\n",
       "      <td>20160617</td>\n",
       "      <td>False</td>\n",
       "      <td>ESM6 P1980</td>\n",
       "      <td>50</td>\n",
       "      <td>P</td>\n",
       "      <td>FOP</td>\n",
       "      <td>1980</td>\n",
       "      <td>ES</td>\n",
       "      <td>ES</td>\n",
       "    </tr>\n",
       "    <tr>\n",
       "      <th>198003948</th>\n",
       "      <td>USD</td>\n",
       "      <td>GLOBEX</td>\n",
       "      <td>20160617</td>\n",
       "      <td>False</td>\n",
       "      <td>ESM6 P2000</td>\n",
       "      <td>50</td>\n",
       "      <td>P</td>\n",
       "      <td>FOP</td>\n",
       "      <td>2000</td>\n",
       "      <td>ES</td>\n",
       "      <td>ES</td>\n",
       "    </tr>\n",
       "    <tr>\n",
       "      <th>198003954</th>\n",
       "      <td>USD</td>\n",
       "      <td>GLOBEX</td>\n",
       "      <td>20160617</td>\n",
       "      <td>False</td>\n",
       "      <td>ESM6 P2010</td>\n",
       "      <td>50</td>\n",
       "      <td>P</td>\n",
       "      <td>FOP</td>\n",
       "      <td>2010</td>\n",
       "      <td>ES</td>\n",
       "      <td>ES</td>\n",
       "    </tr>\n",
       "    <tr>\n",
       "      <th>215521453</th>\n",
       "      <td>USD</td>\n",
       "      <td>GLOBEX</td>\n",
       "      <td>20160617</td>\n",
       "      <td>False</td>\n",
       "      <td>ESM6 P2015</td>\n",
       "      <td>50</td>\n",
       "      <td>P</td>\n",
       "      <td>FOP</td>\n",
       "      <td>2015</td>\n",
       "      <td>ES</td>\n",
       "      <td>ES</td>\n",
       "    </tr>\n",
       "    <tr>\n",
       "      <th>198003965</th>\n",
       "      <td>USD</td>\n",
       "      <td>GLOBEX</td>\n",
       "      <td>20160617</td>\n",
       "      <td>False</td>\n",
       "      <td>ESM6 P2030</td>\n",
       "      <td>50</td>\n",
       "      <td>P</td>\n",
       "      <td>FOP</td>\n",
       "      <td>2030</td>\n",
       "      <td>ES</td>\n",
       "      <td>ES</td>\n",
       "    </tr>\n",
       "    <tr>\n",
       "      <th>215521438</th>\n",
       "      <td>USD</td>\n",
       "      <td>GLOBEX</td>\n",
       "      <td>20160617</td>\n",
       "      <td>False</td>\n",
       "      <td>ESM6 P2035</td>\n",
       "      <td>50</td>\n",
       "      <td>P</td>\n",
       "      <td>FOP</td>\n",
       "      <td>2035</td>\n",
       "      <td>ES</td>\n",
       "      <td>ES</td>\n",
       "    </tr>\n",
       "    <tr>\n",
       "      <th>198003974</th>\n",
       "      <td>USD</td>\n",
       "      <td>GLOBEX</td>\n",
       "      <td>20160617</td>\n",
       "      <td>False</td>\n",
       "      <td>ESM6 P2050</td>\n",
       "      <td>50</td>\n",
       "      <td>P</td>\n",
       "      <td>FOP</td>\n",
       "      <td>2050</td>\n",
       "      <td>ES</td>\n",
       "      <td>ES</td>\n",
       "    </tr>\n",
       "    <tr>\n",
       "      <th>215521493</th>\n",
       "      <td>USD</td>\n",
       "      <td>GLOBEX</td>\n",
       "      <td>20160617</td>\n",
       "      <td>False</td>\n",
       "      <td>ESM6 P2055</td>\n",
       "      <td>50</td>\n",
       "      <td>P</td>\n",
       "      <td>FOP</td>\n",
       "      <td>2055</td>\n",
       "      <td>ES</td>\n",
       "      <td>ES</td>\n",
       "    </tr>\n",
       "    <tr>\n",
       "      <th>198003980</th>\n",
       "      <td>USD</td>\n",
       "      <td>GLOBEX</td>\n",
       "      <td>20160617</td>\n",
       "      <td>False</td>\n",
       "      <td>ESM6 P2070</td>\n",
       "      <td>50</td>\n",
       "      <td>P</td>\n",
       "      <td>FOP</td>\n",
       "      <td>2070</td>\n",
       "      <td>ES</td>\n",
       "      <td>ES</td>\n",
       "    </tr>\n",
       "  </tbody>\n",
       "</table>\n",
       "</div>"
      ],
      "text/plain": [
       "          Currency Exchange    Expiry IncludeExpired LocalSymbol  Multiplier  \\\n",
       "ConId                                                                          \n",
       "187532577      USD   GLOBEX  20160617          False        ESM6          50   \n",
       "198003214      USD   GLOBEX  20160617          False  ESM6 C2000          50   \n",
       "198003221      USD   GLOBEX  20160617          False  ESM6 C2020          50   \n",
       "198003231      USD   GLOBEX  20160617          False  ESM6 C2030          50   \n",
       "215521172      USD   GLOBEX  20160617          False  ESM6 C2035          50   \n",
       "198003238      USD   GLOBEX  20160617          False  ESM6 C2050          50   \n",
       "215521192      USD   GLOBEX  20160617          False  ESM6 C2055          50   \n",
       "198003244      USD   GLOBEX  20160617          False  ESM6 C2070          50   \n",
       "198003256      USD   GLOBEX  20160617          False  ESM6 C2090          50   \n",
       "198003942      USD   GLOBEX  20160617          False  ESM6 P1980          50   \n",
       "198003948      USD   GLOBEX  20160617          False  ESM6 P2000          50   \n",
       "198003954      USD   GLOBEX  20160617          False  ESM6 P2010          50   \n",
       "215521453      USD   GLOBEX  20160617          False  ESM6 P2015          50   \n",
       "198003965      USD   GLOBEX  20160617          False  ESM6 P2030          50   \n",
       "215521438      USD   GLOBEX  20160617          False  ESM6 P2035          50   \n",
       "198003974      USD   GLOBEX  20160617          False  ESM6 P2050          50   \n",
       "215521493      USD   GLOBEX  20160617          False  ESM6 P2055          50   \n",
       "198003980      USD   GLOBEX  20160617          False  ESM6 P2070          50   \n",
       "\n",
       "          Right SecType  Strike Symbol TradingClass  \n",
       "ConId                                                \n",
       "187532577  None     FUT       0     ES           ES  \n",
       "198003214     C     FOP    2000     ES           ES  \n",
       "198003221     C     FOP    2020     ES           ES  \n",
       "198003231     C     FOP    2030     ES           ES  \n",
       "215521172     C     FOP    2035     ES           ES  \n",
       "198003238     C     FOP    2050     ES           ES  \n",
       "215521192     C     FOP    2055     ES           ES  \n",
       "198003244     C     FOP    2070     ES           ES  \n",
       "198003256     C     FOP    2090     ES           ES  \n",
       "198003942     P     FOP    1980     ES           ES  \n",
       "198003948     P     FOP    2000     ES           ES  \n",
       "198003954     P     FOP    2010     ES           ES  \n",
       "215521453     P     FOP    2015     ES           ES  \n",
       "198003965     P     FOP    2030     ES           ES  \n",
       "215521438     P     FOP    2035     ES           ES  \n",
       "198003974     P     FOP    2050     ES           ES  \n",
       "215521493     P     FOP    2055     ES           ES  \n",
       "198003980     P     FOP    2070     ES           ES  "
      ]
     },
     "execution_count": 2,
     "metadata": {},
     "output_type": "execute_result"
    }
   ],
   "source": [
    "path_to_contracts_json = './testing_files/Contracts.json'\n",
    "df_contracts = pd.read_json(path_to_contracts_json).dropna(axis=1, how='all').set_index('ConId')\n",
    "df_contracts.sort_values('LocalSymbol')"
   ]
  },
  {
   "cell_type": "markdown",
   "metadata": {},
   "source": [
    "Let's buy a contract."
   ]
  },
  {
   "cell_type": "code",
   "execution_count": 3,
   "metadata": {
    "collapsed": false
   },
   "outputs": [
    {
     "name": "stdout",
     "output_type": "stream",
     "text": [
      "1 Long Put @ 2010 contracts of ES expiring at 2016-06-17, premium 20\n"
     ]
    }
   ],
   "source": [
    "option = OptionOperation.from_ConId(contracts=df_contracts, ConID=198003954, position=Position.Long,\n",
    "                                    premium=20)\n",
    "print (option)"
   ]
  },
  {
   "cell_type": "markdown",
   "metadata": {},
   "source": [
    "Now, we can build an strategy."
   ]
  },
  {
   "cell_type": "code",
   "execution_count": 4,
   "metadata": {
    "collapsed": false
   },
   "outputs": [],
   "source": [
    "strategy = OptionStrategy()\n",
    "strategy.add(option)\n",
    "\n",
    "option_2 = OptionOperation.from_ConId(contracts=df_contracts, ConID=198003965, position=Position.Short,\n",
    "                                    premium=40)\n",
    "strategy.add(option_2)\n",
    "\n",
    "option_3 = OptionOperation.from_ConId(contracts=df_contracts, ConID=215521192, position=Position.Short,\n",
    "                                    premium=40)\n",
    "strategy.add(option_3)\n",
    "\n",
    "option_4 = OptionOperation.from_ConId(contracts=df_contracts, ConID=198003244, position=Position.Long,\n",
    "                                    premium=20)\n",
    "strategy.add(option_4)"
   ]
  },
  {
   "cell_type": "code",
   "execution_count": 5,
   "metadata": {
    "collapsed": false
   },
   "outputs": [
    {
     "name": "stdout",
     "output_type": "stream",
     "text": [
      "1 Long Put @ 2010 contracts of ES expiring at 2016-06-17, premium 20\n",
      "1 Short Put @ 2030 contracts of ES expiring at 2016-06-17, premium 40\n",
      "1 Short Call @ 2055 contracts of ES expiring at 2016-06-17, premium 40\n",
      "1 Long Call @ 2070 contracts of ES expiring at 2016-06-17, premium 20\n"
     ]
    }
   ],
   "source": [
    "for contract in strategy.strategy_options:\n",
    "    print(contract)"
   ]
  },
  {
   "cell_type": "markdown",
   "metadata": {},
   "source": [
    "Let's see the strategy"
   ]
  },
  {
   "cell_type": "code",
   "execution_count": 6,
   "metadata": {
    "collapsed": false
   },
   "outputs": [],
   "source": [
    "price_range = [price for price in range(2000, 2085, 5)]\n",
    "strategy_values = strategy.evaluate_range(2000, 2080, 5)\n",
    "df = pd.DataFrame({'StrategyValue':strategy_values}, index=price_range)"
   ]
  },
  {
   "cell_type": "code",
   "execution_count": 7,
   "metadata": {
    "collapsed": false
   },
   "outputs": [
    {
     "data": {
      "text/plain": [
       "<matplotlib.axes._subplots.AxesSubplot at 0x7fe3cb09da58>"
      ]
     },
     "execution_count": 7,
     "metadata": {},
     "output_type": "execute_result"
    },
    {
     "data": {
      "image/png": "[encoded data removed]",
      "text/plain": [
       "<matplotlib.figure.Figure at 0x7fe3cb373c18>"
      ]
     },
     "metadata": {},
     "output_type": "display_data"
    }
   ],
   "source": [
    "df.plot(grid=True)"
   ]
  }
 ],
 "metadata": {
  "kernelspec": {
   "display_name": "Python 3",
   "language": "python",
   "name": "python3"
  },
  "language_info": {
   "codemirror_mode": {
    "name": "ipython",
    "version": 3
   },
   "file_extension": ".py",
   "mimetype": "text/x-python",
   "name": "python",
   "nbconvert_exporter": "python",
   "pygments_lexer": "ipython3",
   "version": "3.5.1"
  }
 },
 "nbformat": 4,
 "nbformat_minor": 0
}
