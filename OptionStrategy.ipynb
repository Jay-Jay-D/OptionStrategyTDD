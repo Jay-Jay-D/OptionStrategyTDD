{
 "cells": [
  {
   "cell_type": "code",
   "execution_count": 1,
   "metadata": {
    "collapsed": false
   },
   "outputs": [],
   "source": [
    "from OptionStrategy import *\n",
    "\n",
    "# Show the plots in the notebook.\n",
    "%matplotlib inline\n",
    "# Set the plots size.\n",
    "import matplotlib.pylab as pylab\n",
    "pylab.rcParams['figure.figsize'] = 12, 8\n",
    "import matplotlib.pyplot as plt\n",
    "\n",
    "import plotly.tools as tls\n",
    "import plotly.plotly as py\n",
    "import cufflinks as cf"
   ]
  },
  {
   "cell_type": "markdown",
   "metadata": {},
   "source": [
    "Read the contracts.json file "
   ]
  },
  {
   "cell_type": "code",
   "execution_count": 2,
   "metadata": {
    "collapsed": false
   },
   "outputs": [],
   "source": [
    "path_to_contracts_json = './testing_files/Contracts.json'\n",
    "df_contracts = pd.read_json(path_to_contracts_json).dropna(axis=1, how='all').set_index('ConId')\n",
    "#df_contracts.sort_values('LocalSymbol')"
   ]
  },
  {
   "cell_type": "markdown",
   "metadata": {},
   "source": [
    "Let's buy a contract."
   ]
  },
  {
   "cell_type": "code",
   "execution_count": 3,
   "metadata": {
    "collapsed": false
   },
   "outputs": [
    {
     "name": "stdout",
     "output_type": "stream",
     "text": [
      "1 Long ES June-16 Put 2010 at 1000\n"
     ]
    }
   ],
   "source": [
    "option = OptionOperation.from_ConId(contracts=df_contracts, ConID=198003954, position=Position.Long,\n",
    "                                    premium=20)\n",
    "print (option)"
   ]
  },
  {
   "cell_type": "markdown",
   "metadata": {},
   "source": [
    "Now, we can build an strategy."
   ]
  },
  {
   "cell_type": "code",
   "execution_count": 4,
   "metadata": {
    "collapsed": false
   },
   "outputs": [],
   "source": [
    "strategy = OptionStrategy()\n",
    "strategy.add(option)\n",
    "\n",
    "option_2 = OptionOperation.from_ConId(contracts=df_contracts, ConID=198003965, position=Position.Short,\n",
    "                                    premium=40)\n",
    "strategy.add(option_2)\n",
    "\n",
    "option_3 = OptionOperation.from_ConId(contracts=df_contracts, ConID=215521192, position=Position.Short,\n",
    "                                    premium=40)\n",
    "strategy.add(option_3)\n",
    "\n",
    "option_4 = OptionOperation.from_ConId(contracts=df_contracts, ConID=198003244, position=Position.Long,\n",
    "                                    premium=20)\n",
    "strategy.add(option_4)"
   ]
  },
  {
   "cell_type": "code",
   "execution_count": 5,
   "metadata": {
    "collapsed": false
   },
   "outputs": [
    {
     "name": "stdout",
     "output_type": "stream",
     "text": [
      "1 Short ES June-16 Call 2055 at 2000\n",
      "1 Long ES June-16 Put 2010 at 1000\n",
      "1 Long ES June-16 Call 2070 at 1000\n",
      "1 Short ES June-16 Put 2030 at 2000\n"
     ]
    }
   ],
   "source": [
    "print(strategy)"
   ]
  },
  {
   "cell_type": "markdown",
   "metadata": {},
   "source": [
    "Let's see the options "
   ]
  },
  {
   "cell_type": "code",
   "execution_count": 6,
   "metadata": {
    "collapsed": false
   },
   "outputs": [],
   "source": [
    "col_names = []\n",
    "for option in strategy.options.values():\n",
    "    name = '{} {}{}'.format(option.position.name, option.strike_price, option.option_type.name)\n",
    "    col_names.append(name)"
   ]
  },
  {
   "cell_type": "code",
   "execution_count": 7,
   "metadata": {
    "collapsed": false
   },
   "outputs": [],
   "source": [
    "strategy_profit_loss = {}\n",
    "for price in range(2000, 2085, 5):\n",
    "    profit_loss = []\n",
    "    for option in strategy.options.values():\n",
    "        profit_loss.append(option.profit_loss_at(price))\n",
    "    #profit_loss.append(strategy.profit_loos_at(price))\n",
    "    strategy_profit_loss[price] = profit_loss\n",
    "    \n",
    "df = pd.DataFrame(strategy_profit_loss).transpose()\n",
    "df.columns = col_names"
   ]
  },
  {
   "cell_type": "code",
   "execution_count": 8,
   "metadata": {
    "collapsed": false
   },
   "outputs": [
    {
     "data": {
      "text/html": [
       "<iframe id=\"igraph\" scrolling=\"no\" style=\"border:none;\" seamless=\"seamless\" src=\"https://plot.ly/~jjdambrosio/279.embed\" height=\"525px\" width=\"100%\"></iframe>"
      ],
      "text/plain": [
       "<plotly.tools.PlotlyDisplay object>"
      ]
     },
     "execution_count": 8,
     "metadata": {},
     "output_type": "execute_result"
    }
   ],
   "source": [
    "df.iplot(kind='scatter', width=2, colorscale=\"dflt\", theme='ggplot', filename='testing_cufflinks/OptionStrategy')"
   ]
  },
  {
   "cell_type": "markdown",
   "metadata": {},
   "source": [
    "And now the strategy itself"
   ]
  },
  {
   "cell_type": "code",
   "execution_count": 9,
   "metadata": {
    "collapsed": false
   },
   "outputs": [],
   "source": [
    "strategy_profit_loss = {}\n",
    "for price in range(2000, 2085, 5):\n",
    "    strategy_profit_loss[price] = strategy.profit_loss_at(price)\n",
    "    \n",
    "df_strategy = pd.Series(strategy_profit_loss)#.transpose()\n",
    "df_strategy.name = 'Strategy'"
   ]
  },
  {
   "cell_type": "code",
   "execution_count": 10,
   "metadata": {
    "collapsed": false
   },
   "outputs": [
    {
     "data": {
      "text/html": [
       "<iframe id=\"igraph\" scrolling=\"no\" style=\"border:none;\" seamless=\"seamless\" src=\"https://plot.ly/~jjdambrosio/281.embed\" height=\"525px\" width=\"100%\"></iframe>"
      ],
      "text/plain": [
       "<plotly.tools.PlotlyDisplay object>"
      ]
     },
     "execution_count": 10,
     "metadata": {},
     "output_type": "execute_result"
    }
   ],
   "source": [
    "df_strategy.iplot(kind='scatter', width=2, colorscale=\"dflt\", theme='ggplot',\n",
    "                  filename='testing_cufflinks/Strategy')"
   ]
  },
  {
   "cell_type": "code",
   "execution_count": null,
   "metadata": {
    "collapsed": true
   },
   "outputs": [],
   "source": []
  }
 ],
 "metadata": {
  "kernelspec": {
   "display_name": "Python 3",
   "language": "python",
   "name": "python3"
  },
  "language_info": {
   "codemirror_mode": {
    "name": "ipython",
    "version": 3
   },
   "file_extension": ".py",
   "mimetype": "text/x-python",
   "name": "python",
   "nbconvert_exporter": "python",
   "pygments_lexer": "ipython3",
   "version": "3.5.1"
  }
 },
 "nbformat": 4,
 "nbformat_minor": 0
}
