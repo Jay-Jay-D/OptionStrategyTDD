{
 "cells": [
  {
   "cell_type": "code",
   "execution_count": 1,
   "metadata": {
    "collapsed": false
   },
   "outputs": [],
   "source": [
    "from OptionStrategy import *\n",
    "\n",
    "# Show the plots in the notebook.\n",
    "%matplotlib inline\n",
    "# Set the plots size.\n",
    "import matplotlib.pylab as pylab\n",
    "pylab.rcParams['figure.figsize'] = 12, 8\n",
    "import matplotlib.pyplot as plt\n",
    "\n",
    "import plotly.tools as tls\n",
    "import plotly.plotly as py\n",
    "import cufflinks as cf"
   ]
  },
  {
   "cell_type": "markdown",
   "metadata": {},
   "source": [
    "Read the contracts.json file "
   ]
  },
  {
   "cell_type": "code",
   "execution_count": 2,
   "metadata": {
    "collapsed": false
   },
   "outputs": [],
   "source": [
    "path_to_contracts_json = './testing_files/Contracts.json'\n",
    "df_contracts = pd.read_json(path_to_contracts_json).dropna(axis=1, how='all').set_index('ConId')\n",
    "#df_contracts.sort_values('LocalSymbol')"
   ]
  },
  {
   "cell_type": "markdown",
   "metadata": {},
   "source": [
    "Let's buy a contract."
   ]
  },
  {
   "cell_type": "code",
   "execution_count": 3,
   "metadata": {
    "collapsed": false
   },
   "outputs": [
    {
     "name": "stdout",
     "output_type": "stream",
     "text": [
      "1 Long None September-16 Put 2120 at 0\n",
      "1 Short None September-16 Put 2140 at 0\n",
      "1 Short None September-16 Call 2140 at 0\n",
      "1 Long None September-16 Call 2160 at 0\n"
     ]
    }
   ],
   "source": [
    "option_1 = OptionOperation(position=Position.Long,  premium=0,  option_type=OptionType.Put,  strike_price=2120, con_id=1, expiry='20160909')\n",
    "option_2 = OptionOperation(position=Position.Short, premium=0, option_type=OptionType.Put,  strike_price=2140, con_id=2, expiry='20160909')\n",
    "option_3 = OptionOperation(position=Position.Short, premium=0, option_type=OptionType.Call, strike_price=2140, con_id=3, expiry='20160909')\n",
    "option_4 = OptionOperation(position=Position.Long,  premium=0,  option_type=OptionType.Call, strike_price=2160, con_id=4, expiry='20160909')\n",
    "options = [option_1, option_2, option_3, option_4]\n",
    "\n",
    "adaptative_condor = OptionStrategy('AdaptativeCondor')\n",
    "for option in options:\n",
    "    adaptative_condor.add(option)\n",
    "\n",
    "print(adaptative_condor)"
   ]
  },
  {
   "cell_type": "markdown",
   "metadata": {},
   "source": [
    "Let's see the options "
   ]
  },
  {
   "cell_type": "code",
   "execution_count": 4,
   "metadata": {
    "collapsed": false
   },
   "outputs": [],
   "source": [
    "adaptative_condor.plot()"
   ]
  },
  {
   "cell_type": "code",
   "execution_count": 5,
   "metadata": {
    "collapsed": false
   },
   "outputs": [
    {
     "name": "stdout",
     "output_type": "stream",
     "text": [
      "1 Long None September-16 Put 2120 at 0\n",
      "1 Short None September-16 Put 2140 at 0\n",
      "2 Short None September-16 Call 2160 at 0\n",
      "2 Long None September-16 Call 2180 at 0\n"
     ]
    }
   ],
   "source": [
    "option_5 = OptionOperation(position=Position.Long,  premium=0, option_type=OptionType.Call, strike_price=2140, con_id=3, expiry='20160909')\n",
    "option_6 = OptionOperation(position=Position.Short,  premium=0,  option_type=OptionType.Call, strike_price=2160, quantity=3, con_id=4, expiry='20160909')\n",
    "option_7 = OptionOperation(position=Position.Long,  premium=0,  option_type=OptionType.Call, strike_price=2180, quantity=2, con_id=5, expiry='20160909')\n",
    "\n",
    "options = [option_5, option_6, option_7]\n",
    "\n",
    "for option in options:\n",
    "    adaptative_condor.add(option)\n",
    "\n",
    "print(adaptative_condor)"
   ]
  },
  {
   "cell_type": "code",
   "execution_count": 7,
   "metadata": {
    "collapsed": true
   },
   "outputs": [],
   "source": [
    "adaptative_condor.name = 'AdaptativeCondor_2'\n",
    "adaptative_condor.plot()"
   ]
  },
  {
   "cell_type": "code",
   "execution_count": null,
   "metadata": {
    "collapsed": true
   },
   "outputs": [],
   "source": []
  }
 ],
 "metadata": {
  "kernelspec": {
   "display_name": "Python 3",
   "language": "python",
   "name": "python3"
  },
  "language_info": {
   "codemirror_mode": {
    "name": "ipython",
    "version": 3
   },
   "file_extension": ".py",
   "mimetype": "text/x-python",
   "name": "python",
   "nbconvert_exporter": "python",
   "pygments_lexer": "ipython3",
   "version": "3.5.1"
  }
 },
 "nbformat": 4,
 "nbformat_minor": 0
}
