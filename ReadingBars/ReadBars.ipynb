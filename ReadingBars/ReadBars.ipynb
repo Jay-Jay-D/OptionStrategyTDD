{
 "cells": [
  {
   "cell_type": "code",
   "execution_count": 1,
   "metadata": {
    "collapsed": true
   },
   "outputs": [],
   "source": [
    "import pandas as pd"
   ]
  },
  {
   "cell_type": "code",
   "execution_count": 2,
   "metadata": {
    "collapsed": false
   },
   "outputs": [],
   "source": [
    "bars = pd.read_csv('BarList.csv', parse_dates=['Time'])\n",
    "dictionary = pd.read_json('contractsDictionary.json', typ='series', convert_dates=False)"
   ]
  },
  {
   "cell_type": "code",
   "execution_count": 3,
   "metadata": {
    "collapsed": false
   },
   "outputs": [],
   "source": [
    "dict_to_panel = {}\n",
    "for item in dictionary.iteritems():\n",
    "    req_id = item[0]\n",
    "    con_id = item[1]\n",
    "    query_str = 'reqId=={}'.format(req_id)\n",
    "    dict_to_panel[con_id] = (bars.query(query_str)\n",
    "                                 .drop('reqId', axis=1)\n",
    "                                 .set_index('Time'))\n",
    "pn_bars = pd.Panel(dict_to_panel)"
   ]
  },
  {
   "cell_type": "code",
   "execution_count": 4,
   "metadata": {
    "collapsed": false
   },
   "outputs": [
    {
     "data": {
      "text/plain": [
       "<class 'pandas.core.panel.Panel'>\n",
       "Dimensions: 29 (items) x 121 (major_axis) x 7 (minor_axis)\n",
       "Items axis: 197307551 to 236670115\n",
       "Major_axis axis: 2016-07-18 18:05:55 to 2016-07-18 18:15:55\n",
       "Minor_axis axis: Open to Count"
      ]
     },
     "execution_count": 4,
     "metadata": {},
     "output_type": "execute_result"
    }
   ],
   "source": [
    "pn_bars"
   ]
  },
  {
   "cell_type": "code",
   "execution_count": 5,
   "metadata": {
    "collapsed": false
   },
   "outputs": [
    {
     "data": {
      "text/plain": [
       "Time\n",
       "2016-07-18 18:05:55    2160.25\n",
       "2016-07-18 18:06:00    2160.50\n",
       "2016-07-18 18:06:05    2160.25\n",
       "2016-07-18 18:06:10    2160.25\n",
       "2016-07-18 18:06:15    2160.25\n",
       "Freq: 5S, Name: Close, dtype: float64"
      ]
     },
     "execution_count": 5,
     "metadata": {},
     "output_type": "execute_result"
    }
   ],
   "source": [
    "con_id = 197307551\n",
    "query_str = ''\n",
    "field = 'Close'\n",
    "pn_bars.ix[con_id, :, field].head()"
   ]
  }
 ],
 "metadata": {
  "kernelspec": {
   "display_name": "Python 3",
   "language": "python",
   "name": "python3"
  },
  "language_info": {
   "codemirror_mode": {
    "name": "ipython",
    "version": 3
   },
   "file_extension": ".py",
   "mimetype": "text/x-python",
   "name": "python",
   "nbconvert_exporter": "python",
   "pygments_lexer": "ipython3",
   "version": "3.5.1"
  }
 },
 "nbformat": 4,
 "nbformat_minor": 0
}
